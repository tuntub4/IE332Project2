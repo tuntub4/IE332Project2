{
 "cells": [
  {
   "cell_type": "code",
   "execution_count": 81,
   "id": "8e2b399f-abbb-4ce5-a5d5-9be3d2d34bf6",
   "metadata": {},
   "outputs": [],
   "source": [
    "library(tidyverse)\n",
    "library(keras)\n",
    "library(tensorflow)\n",
    "library(reticulate)"
   ]
  },
  {
   "cell_type": "code",
   "execution_count": 82,
   "id": "21dd0bb4-88fb-4dca-b052-810af8f2f018",
   "metadata": {},
   "outputs": [
    {
     "name": "stdout",
     "output_type": "stream",
     "text": [
      "\n",
      "Installation complete.\n",
      "\n"
     ]
    }
   ],
   "source": [
    "install_tensorflow(extra_packages=\"pillow\")"
   ]
  },
  {
   "cell_type": "code",
   "execution_count": 83,
   "id": "2be08740-971b-4f0c-9206-96cb08d01eb2",
   "metadata": {},
   "outputs": [
    {
     "name": "stdout",
     "output_type": "stream",
     "text": [
      "\n",
      "Installation complete.\n",
      "\n"
     ]
    }
   ],
   "source": [
    "install_keras()"
   ]
  },
  {
   "cell_type": "code",
   "execution_count": 84,
   "id": "487fb5c4-3295-4969-9900-5d455df93742",
   "metadata": {},
   "outputs": [],
   "source": [
    "model_list <- load_model_tf(\"./dandelion model\")\n",
    "model <- model_list"
   ]
  },
  {
   "cell_type": "code",
   "execution_count": 77,
   "id": "6b68c5ee-502d-4c41-ba34-85ce9b1fbe9c",
   "metadata": {},
   "outputs": [],
   "source": [
    "change_brightness <- function(image, alpha, beta){\n",
    "    new_image <- array(0, dim = dim(image))\n",
    "    new_image <- pmax(0, pmin(alpha * image + beta, 225))\n",
    "    return (new_image)\n",
    "    }"
   ]
  },
  {
   "cell_type": "code",
   "execution_count": 78,
   "id": "ad7ef920-9118-4d1d-9436-c2ca944c4722",
   "metadata": {},
   "outputs": [],
   "source": [
    "CCP_Atk_Bright <- function(image, trans) {\n",
    "    img <- image\n",
    "    for(channel in 1:dim(img)[3]) {\n",
    "        temp1 <- image[,,1]\n",
    "        temp2 <- image[,,2]\n",
    "        temp3 <- image[,,3]\n",
    "        \n",
    "        temp <- (temp1 * trans[channel,1]) + (temp2 * trans[channel, 2]) + (temp3 * trans[channel, 3])\n",
    "        img[,,channel] <- temp/3\n",
    "        }\n",
    "     img1 <- change_brightness(img, 1, 30)\n",
    "    return (img1)\n",
    "    }\n",
    "    \n",
    "   "
   ]
  },
  {
   "cell_type": "code",
   "execution_count": 79,
   "id": "cd5987ea-e63e-4771-88af-c23b65b6d4fd",
   "metadata": {},
   "outputs": [],
   "source": [
    "a <- runif(3, min = 0.0, max = 1.0)\n",
    "b <- runif(3, min = 0.0, max = 1.0)\n",
    "c <- runif(3, min = 0.0, max = 1.0)"
   ]
  },
  {
   "cell_type": "code",
   "execution_count": 94,
   "id": "89c1e391-f4db-49aa-8593-fba808cf559d",
   "metadata": {},
   "outputs": [
    {
     "ename": "ERROR",
     "evalue": "Error in array(0, dim = dim(image)): argument \"image\" is missing, with no default\n",
     "output_type": "error",
     "traceback": [
      "Error in array(0, dim = dim(image)): argument \"image\" is missing, with no default\nTraceback:\n",
      "1. change_brightness()",
      "2. array(0, dim = dim(image))   # at line 2 of file <text>"
     ]
    }
   ],
   "source": [
    "#change model to be able to classify dandelion/grass\n",
    "\n",
    "target_size <- c(224,224)\n",
    "res <- data.frame(file = character(), class = character(), percent_dandelion = numeric(), percent_grass = numeric(), stringsAsFactors = FALSE)\n",
    "\n",
    "f <- list.files(\"./grass\")\n",
    "for (i in f){\n",
    "  test_image <- image_load(paste(\"./grass/\",i,sep = \"\"),\n",
    "                                  target_size = target_size)\n",
    "  x <- image_to_array(test_image)\n",
    "  x <- array_reshape(x, c(1, dim(x)))\n",
    "  x <- x/255\n",
    "  \n",
    "  change_brightness()  \n",
    "  CCP_Atk_Bright()  \n",
    "    \n",
    "  pred <- model %>% predict(x)\n",
    "  if (pred[1,2] < 0.50){\n",
    "    res <- rbind(res, data.frame(file = i, class = \"not_grass\", percent_dandelion = pred[1,1], percent_grass = 1- pred[1,1]))\n",
    "  } else {\n",
    "    res <- rbind(res, data.frame(file = i, class = \"grass\", percent_dandelion = pred[1,1], percent_grass = 1 - pred[1,1]))\n",
    "  }\n",
    "}\n",
    "\n",
    "f <- list.files(\"./dandelions\")\n",
    "for (i in f){\n",
    "  test_image <- image_load(paste(\"./dandelions/\", i, sep=\"\"),\n",
    "                           target_size = target_size)\n",
    "  x <- image_to_array(test_image)\n",
    "  x <- array_reshape(x, c(1, dim(x)))\n",
    "  x <- x/255\n",
    "    \n",
    "    change_brightness()\n",
    "    CCP_Atk_Bright()  \n",
    "    \n",
    "    \n",
    "  pred <- model %>% predict(x)\n",
    "  if(pred[1,1]<0.50){\n",
    "}\n",
    "if (pred[1,1] < 0.50){\n",
    "    res <- rbind(res, data.frame(file = i, class = \"not_dandelion\", percent_dandelion = pred[1,1], percent_grass = 1 - pred[1,1]))\n",
    "} else {\n",
    "    res <- rbind(res, data.frame(file = i, class = \"dandelion\", percent_dandelion = pred[1,1], percent_grass = 1 - pred[1,1]))\n",
    "    }\n",
    "}\n",
    "\n",
    "print(res)\n",
    "\n"
   ]
  },
  {
   "cell_type": "code",
   "execution_count": null,
   "id": "0b4bf0ef-e387-4bce-b523-fca3bc607415",
   "metadata": {},
   "outputs": [],
   "source": []
  },
  {
   "cell_type": "code",
   "execution_count": null,
   "id": "83f480e5-0c0b-4ac0-b192-b4ff864d194f",
   "metadata": {},
   "outputs": [],
   "source": []
  }
 ],
 "metadata": {
  "environment": {
   "kernel": "ir",
   "name": "r-cpu.4-2.m107",
   "type": "gcloud",
   "uri": "gcr.io/deeplearning-platform-release/r-cpu.4-2:m107"
  },
  "kernelspec": {
   "display_name": "R",
   "language": "R",
   "name": "ir"
  },
  "language_info": {
   "codemirror_mode": "r",
   "file_extension": ".r",
   "mimetype": "text/x-r-source",
   "name": "R",
   "pygments_lexer": "r",
   "version": "4.2.3"
  }
 },
 "nbformat": 4,
 "nbformat_minor": 5
}
